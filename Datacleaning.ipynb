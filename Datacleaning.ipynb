{
 "cells": [
  {
   "cell_type": "code",
   "execution_count": 13,
   "metadata": {},
   "outputs": [],
   "source": [
    "import pandas as pd\n",
    "import ast\n",
    "import xgboost as xgb\n",
    "from sklearn.model_selection import train_test_split"
   ]
  },
  {
   "cell_type": "code",
   "execution_count": 2,
   "metadata": {},
   "outputs": [],
   "source": [
    "data=pd.read_csv('Hotel_Reviews.csv') #read the csv file"
   ]
  },
  {
   "cell_type": "code",
   "execution_count": 3,
   "metadata": {},
   "outputs": [],
   "source": [
    "# This is the basic data cleaning process. This should be added in all the models\n",
    "# This cell is a bit slow to run, so it is intended to be run only once\n",
    "\n",
    "# This part drops the columns that are not needed in the model\n",
    "data.drop('Hotel_Address',axis=1,inplace=True)  # Drop the column 'Hotel_Address' due to lack of relevance\n",
    "data.drop('Review_Date',axis=1,inplace=True)    # Drop the column 'Review_Date' due to lack of complete data\n",
    "data.drop('Additional_Number_of_Scoring',axis=1,inplace=True)  # Drop the column 'Additional_Number_of_Scoring' due to not knowing what the numbers mean\n",
    "data.drop('lat',axis=1,inplace=True)    # Drop the column 'lat' due to lack of relevance\n",
    "data.drop('lng',axis=1,inplace=True)    # Drop the column 'lng' due to lack of relevance\n",
    "data.drop('Total_Number_of_Reviews',axis=1,inplace=True)    # Drop the column 'Total_Number_of_Reviews' due to the number seams to be incorrect\n",
    "\n",
    "\n",
    "# The next part of the code aims to split the 'Tags' column into multiple columns\n",
    "\n",
    "data['Tags'] = data['Tags'].apply(ast.literal_eval) # Convert the string to a list, This code is made by chatgpt\n",
    "\n",
    "# The following 3 lines of code is made by github copilot\n",
    "\n",
    "tags_expanded = data['Tags'].apply(pd.Series) # Expand the 'Tags' column into multiple columns\n",
    "\n",
    "tags_expanded.columns = [f'Tag_{i}' for i in range(tags_expanded.shape[1])] # Rename the columns for better readability\n",
    "\n",
    "data = pd.concat([data, tags_expanded], axis=1) # Concatenate the expanded tags with the original dataframe\n",
    "\n",
    "data.drop('Tags',axis=1,inplace=True)   # Drop the column 'Tags' due to the data being split into multiple columns\n",
    "data.drop('Tag_5',axis=1,inplace=True)  # Drop the column 'Tag_5' as it is empty.\n",
    "\n",
    "# The next part of the code turns the 'days_since_review' and 'Tag_3' columns into integers\n",
    "data['days_since_review']=data['days_since_review'].str.extract('(\\d+)').astype(int) # Extract the number from the string. This code if made using chatgpt\n",
    "data['Tag_3'] = data['Tag_3'].str.extract('(\\d+)').astype(float) # Extract the number from the string and convert to float. For some reason it did not work as int\n",
    "\n",
    "# The next part of the code creates a new dataframe with hotel names and removes it from the dataframe data\n",
    "hotel_names = data['Hotel_Name'] # Create a new dataframe with the hotel names\n",
    "data.drop('Hotel_Name',axis=1,inplace=True) # Drop the column 'Hotel_Name' as it is not needed in the model"
   ]
  },
  {
   "cell_type": "code",
   "execution_count": 11,
   "metadata": {},
   "outputs": [
    {
     "name": "stdout",
     "output_type": "stream",
     "text": [
      "   Average_Score  Review_Total_Negative_Word_Counts  \\\n",
      "0            7.7                                397   \n",
      "1            7.7                                  0   \n",
      "2            7.7                                 42   \n",
      "3            7.7                                210   \n",
      "4            7.7                                140   \n",
      "\n",
      "   Review_Total_Positive_Word_Counts  \\\n",
      "0                                 11   \n",
      "1                                105   \n",
      "2                                 21   \n",
      "3                                 26   \n",
      "4                                  8   \n",
      "\n",
      "   Total_Number_of_Reviews_Reviewer_Has_Given  Reviewer_Score  \\\n",
      "0                                           7             2.9   \n",
      "1                                           7             7.5   \n",
      "2                                           9             7.1   \n",
      "3                                           1             3.8   \n",
      "4                                           3             6.7   \n",
      "\n",
      "   days_since_review  Tag_3  Tag_0_ Business trip   Tag_0_ Couple   \\\n",
      "0                  0    6.0                      0               0   \n",
      "1                  0    4.0                      0               0   \n",
      "2                  3    3.0                      0               0   \n",
      "3                  3    3.0                      0               0   \n",
      "4                 10    2.0                      0               0   \n",
      "\n",
      "   Tag_0_ Family with older children   ...  Tag_4_ Stayed 2 nights   \\\n",
      "0                                   0  ...                        0   \n",
      "1                                   0  ...                        0   \n",
      "2                                   0  ...                        0   \n",
      "3                                   0  ...                        0   \n",
      "4                                   0  ...                        0   \n",
      "\n",
      "   Tag_4_ Stayed 20 nights   Tag_4_ Stayed 3 nights   Tag_4_ Stayed 4 nights   \\\n",
      "0                         0                        0                        0   \n",
      "1                         0                        0                        0   \n",
      "2                         0                        0                        0   \n",
      "3                         0                        0                        0   \n",
      "4                         0                        0                        0   \n",
      "\n",
      "   Tag_4_ Stayed 5 nights   Tag_4_ Stayed 6 nights   Tag_4_ Stayed 7 nights   \\\n",
      "0                        0                        0                        0   \n",
      "1                        0                        0                        0   \n",
      "2                        0                        0                        0   \n",
      "3                        0                        0                        0   \n",
      "4                        0                        0                        0   \n",
      "\n",
      "   Tag_4_ Stayed 8 nights   Tag_4_ Stayed 9 nights   \\\n",
      "0                        0                        0   \n",
      "1                        0                        0   \n",
      "2                        0                        0   \n",
      "3                        0                        0   \n",
      "4                        0                        0   \n",
      "\n",
      "   Tag_4_ Submitted from a mobile device   \n",
      "0                                       0  \n",
      "1                                       0  \n",
      "2                                       1  \n",
      "3                                       0  \n",
      "4                                       1  \n",
      "\n",
      "[5 rows x 3468 columns]\n"
     ]
    }
   ],
   "source": [
    "#This cell is designed specifically for the xgboost classifier model, but can be used in other models as well\n",
    "\n",
    "xgb_data = data.copy() # Create a copy of the dataframe data\n",
    "xgb_data.drop('Reviewer_Nationality',axis=1,inplace=True) # Drop the column 'Revierer_Nationality' as it will give to many columns when one hot encoded\n",
    "xgb_data.drop('Negative_Review',axis=1,inplace=True) # Drop the column 'Negative_Review' as it is not a numeric value\n",
    "xgb_data.drop('Positive_Review',axis=1,inplace=True) # Drop the column 'Positive_Review' as it is not a numeric value\n",
    "\n",
    "xgb_data = pd.get_dummies(xgb_data, dtype=int) # One hot encode the data\n",
    "print(xgb_data.head()) # Print the first 5 rows of the dataframe"
   ]
  },
  {
   "cell_type": "code",
   "execution_count": 15,
   "metadata": {},
   "outputs": [],
   "source": [
    "# The next part of the code splits the data into training and testing data\n",
    "x = xgb_data.drop('Reviewer_Score',axis=1) # Define the features\n",
    "y = xgb_data['Reviewer_Score'] # Define the target\n",
    "x_train, x_test, y_train, y_test = train_test_split(x, y, test_size=0.2, random_state=69) # Split the data into training and testing data"
   ]
  }
 ],
 "metadata": {
  "kernelspec": {
   "display_name": "Python 3",
   "language": "python",
   "name": "python3"
  },
  "language_info": {
   "codemirror_mode": {
    "name": "ipython",
    "version": 3
   },
   "file_extension": ".py",
   "mimetype": "text/x-python",
   "name": "python",
   "nbconvert_exporter": "python",
   "pygments_lexer": "ipython3",
   "version": "3.11.9"
  }
 },
 "nbformat": 4,
 "nbformat_minor": 2
}
