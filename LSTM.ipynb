{
 "cells": [
  {
   "cell_type": "code",
   "execution_count": 1,
   "metadata": {},
   "outputs": [],
   "source": [
    "import pandas as pd\n",
    "import ast\n",
    "import numpy as np\n",
    "import tensorflow as tf\n",
    "import matplotlib.pyplot as plt\n",
    "from collections import Counter\n",
    "from tensorflow.keras.preprocessing.text import Tokenizer\n",
    "from tensorflow.keras.preprocessing.sequence import pad_sequences\n",
    "from tensorflow.keras.models import Sequential, Model\n",
    "from tensorflow.keras.layers import Embedding, LSTM, Dense, Dropout\n",
    "from tensorflow.keras import mixed_precision\n",
    "from sklearn.model_selection import train_test_split\n",
    "from sklearn.preprocessing import LabelEncoder, StandardScaler\n",
    "from sklearn.metrics import accuracy_score, precision_score, recall_score, f1_score, roc_auc_score"
   ]
  },
  {
   "cell_type": "code",
   "execution_count": 2,
   "metadata": {},
   "outputs": [],
   "source": [
    "data=pd.read_csv('Hotel_Reviews.csv') #read the csv file"
   ]
  },
  {
   "cell_type": "code",
   "execution_count": 3,
   "metadata": {},
   "outputs": [
    {
     "name": "stderr",
     "output_type": "stream",
     "text": [
      "<>:28: SyntaxWarning: invalid escape sequence '\\d'\n",
      "<>:29: SyntaxWarning: invalid escape sequence '\\d'\n",
      "<>:28: SyntaxWarning: invalid escape sequence '\\d'\n",
      "<>:29: SyntaxWarning: invalid escape sequence '\\d'\n",
      "C:\\Users\\sindr\\AppData\\Local\\Temp\\ipykernel_15148\\4087391614.py:28: SyntaxWarning: invalid escape sequence '\\d'\n",
      "  data['days_since_review']=data['days_since_review'].str.extract('(\\d+)').astype(int) # Extract the number from the string. This code if made using chatgpt\n",
      "C:\\Users\\sindr\\AppData\\Local\\Temp\\ipykernel_15148\\4087391614.py:29: SyntaxWarning: invalid escape sequence '\\d'\n",
      "  data['Tag_3'] = data['Tag_3'].str.extract('(\\d+)').astype(float) # Extract the number from the string and convert to float. For some reason it did not work as int\n"
     ]
    }
   ],
   "source": [
    "# This is the basic data cleaning process. This should be added in all the models\n",
    "# This cell is a bit slow to run, so it is intended to be run only once\n",
    "\n",
    "# This part drops the columns that are not needed in the model\n",
    "data.drop('Hotel_Address',axis=1,inplace=True)  # Drop the column 'Hotel_Address' due to lack of relevance\n",
    "data.drop('Review_Date',axis=1,inplace=True)    # Drop the column 'Review_Date' due to lack of complete data\n",
    "data.drop('Additional_Number_of_Scoring',axis=1,inplace=True)  # Drop the column 'Additional_Number_of_Scoring' due to not knowing what the numbers mean\n",
    "data.drop('lat',axis=1,inplace=True)    # Drop the column 'lat' due to lack of relevance\n",
    "data.drop('lng',axis=1,inplace=True)    # Drop the column 'lng' due to lack of relevance\n",
    "data.drop('Total_Number_of_Reviews',axis=1,inplace=True)    # Drop the column 'Total_Number_of_Reviews' due to the number seems to be incorrect\n",
    "\n",
    "\n",
    "# The next part of the code aims to split the 'Tags' column into multiple columns\n",
    "\n",
    "data['Tags'] = data['Tags'].apply(ast.literal_eval) # Convert the string to a list, This code is made by chatgpt\n",
    "\n",
    "# The following 3 lines of code is made by github copilot\n",
    "\n",
    "tags_expanded = data['Tags'].apply(pd.Series) # Expand the 'Tags' column into multiple columns\n",
    "\n",
    "tags_expanded.columns = [f'Tag_{i}' for i in range(tags_expanded.shape[1])] # Rename the columns for better readability\n",
    "\n",
    "data = pd.concat([data, tags_expanded], axis=1) # Concatenate the expanded tags with the original dataframe\n",
    "\n",
    "data.drop('Tags',axis=1,inplace=True)   # Drop the column 'Tags' due to the data being split into multiple columns\n",
    "\n",
    "# The next part of the code turns the 'days_since_review' and 'Tag_3' columns into integers\n",
    "data['days_since_review']=data['days_since_review'].str.extract('(\\d+)').astype(int) # Extract the number from the string. This code if made using chatgpt\n",
    "data['Tag_3'] = data['Tag_3'].str.extract('(\\d+)').astype(float) # Extract the number from the string and convert to float. For some reason it did not work as int\n",
    "\n",
    "# The next part of the code creates a new dataframe with hotel names and removes it from the dataframe data\n",
    "hotel_names = data['Hotel_Name'] # Create a new dataframe with the hotel names\n",
    "data.drop('Hotel_Name',axis=1,inplace=True) # Drop the column 'Hotel_Name' as it is not needed in the model"
   ]
  },
  {
   "cell_type": "code",
   "execution_count": 16,
   "metadata": {},
   "outputs": [
    {
     "data": {
      "image/png": "[encoded data removed]",
      "text/plain": [
       "<Figure size 640x480 with 1 Axes>"
      ]
     },
     "metadata": {},
     "output_type": "display_data"
    },
    {
     "name": "stdout",
     "output_type": "stream",
     "text": [
      "Max review length: 737\n",
      "Min review length: 0\n",
      "Average review length: 36.31590846515091\n",
      "95th percentile review length: 106.0\n",
      "\n",
      "\n",
      "Total number of unique words: 84122\n",
      "max_vocab for 97.5% coverage: 5018 words\n"
     ]
    }
   ],
   "source": [
    "# Denne cellen kan ignoreres. Brukes bare til å finne verdier for MAX_LEN og MAX_VOCAB\n",
    "\n",
    "df = data.copy()\n",
    "\n",
    "review_lengths = df[\"Review_Total_Negative_Word_Counts\"] + df[\"Review_Total_Positive_Word_Counts\"]\n",
    "\n",
    "reviews = df[\"Negative_Review\"] + df[\"Positive_Review\"]\n",
    "\n",
    "# Tokenize the reviews and create a list of all words\n",
    "all_words = [word for review in reviews for word in review.lower().split()]\n",
    "\n",
    "# Count the frequency of each word\n",
    "word_counts = Counter(all_words)\n",
    "\n",
    "# Calculate cumulative sum of word frequencies\n",
    "sorted_word_counts = sorted(word_counts.values(), reverse=True)\n",
    "cumulative_sum = np.cumsum(sorted_word_counts)\n",
    "total_words = sum(sorted_word_counts)\n",
    "\n",
    "# Find unique words by converting the list of tokens to a set\n",
    "unique_words = set(all_words)\n",
    "\n",
    "\n",
    "# Plot the distribution of review lengths (number of tokens)\n",
    "plt.hist(review_lengths, bins=10, edgecolor='black')\n",
    "plt.title('Distribution of Review Lengths (Tokens)')\n",
    "plt.xlabel('Number of Tokens')\n",
    "plt.ylabel('Frequency')\n",
    "plt.show()\n",
    "\n",
    "# Printing relevant information\n",
    "print(f\"Max review length: {max(review_lengths)}\")\n",
    "print(f\"Min review length: {min(review_lengths)}\")\n",
    "print(f\"Average review length: {np.mean(review_lengths)}\")\n",
    "print(f\"95th percentile review length: {np.percentile(review_lengths, 95)}\")\n",
    "print(\"\\n\")\n",
    "print(f\"Total number of unique words: {len(unique_words)}\")\n",
    "\n",
    "# Finding ideal MAX_VOCAB \n",
    "# Prioriterer i dette tilfellet coverage over andel av unike ord, fordi det er LSTM modell og det er liten forskjell i coverage mellom 10000 og 2500 ord\n",
    "desired_coverage = 97.5\n",
    "\n",
    "# Iterate over possible max_vocab values (or up to the length of cumulative_sum)\n",
    "for max_vocab in range(1, len(cumulative_sum) + 1):\n",
    "    # Get the cumulative sum for the top 'max_vocab' words\n",
    "    coverage = cumulative_sum[max_vocab - 1]  # Take the cumulative sum at 'max_vocab' position\n",
    "    \n",
    "    # Calculate the coverage percentage\n",
    "    coverage_percentage = (coverage / total_words) * 100\n",
    "    \n",
    "    # Check if the coverage has reached or exceeded the desired value\n",
    "    if coverage_percentage >= desired_coverage:\n",
    "        print(f\"max_vocab for {desired_coverage}% coverage: {max_vocab} words\")\n",
    "        break  # Exit the loop as we've found the first match\n",
    "\n",
    "\n",
    "\n"
   ]
  },
  {
   "cell_type": "code",
   "execution_count": 7,
   "metadata": {},
   "outputs": [],
   "source": [
    "# Data preprocessing\n",
    "\n",
    "data_lstm = data.copy()\n",
    "\n",
    "# Binary variable to determine sentiment (1 if Reviewer_Score >= 5, else 0)\n",
    "data_lstm['positive'] = (data_lstm['Reviewer_Score'] >= 5).astype(int)\n",
    "\n",
    "# Text preprocessing\n",
    "MAX_VOCAB = 5018 # 97.5% coverage\n",
    "MAX_LEN = 106 # 95th percentile of tokens in review\n",
    "\n",
    "data_lstm['Positive_Review'] = data_lstm['Positive_Review'].astype(str)\n",
    "data_lstm['Negative_Review'] = data_lstm['Negative_Review'].astype(str)\n",
    "\n",
    "\n",
    "tok = Tokenizer(num_words=MAX_VOCAB, oov_token=\"<OOV>\")\n",
    "tok.fit_on_texts(data_lstm['Positive_Review'] + data_lstm['Negative_Review'])\n",
    "\n",
    "# Convert text to sequences\n",
    "X_pos = tok.texts_to_sequences(data_lstm['Positive_Review'])\n",
    "X_neg = tok.texts_to_sequences(data_lstm['Negative_Review'])\n",
    "\n",
    "# Pad sequences\n",
    "X_pos = pad_sequences(X_pos, maxlen=MAX_LEN, padding='post', truncating='post')\n",
    "X_neg = pad_sequences(X_neg, maxlen=MAX_LEN, padding='post', truncating='post')\n",
    "\n",
    "# Numerical variables\n",
    "num_variables = ['Average_Score', 'Review_Total_Negative_Word_Counts',\n",
    "                'Review_Total_Positive_Word_Counts', 'Total_Number_of_Reviews_Reviewer_Has_Given',\n",
    "                'days_since_review']\n",
    "scaler = StandardScaler()\n",
    "X_num = scaler.fit_transform(data_lstm[num_variables])\n",
    "\n",
    "\n",
    "# Label encoding used as opposed to one hot encoding, because it would be too memory intensive\n",
    "# Label encode reviewer nationality\n",
    "label_encoded_reviwer_nationality = LabelEncoder()\n",
    "data_lstm['Reviewer_Nationality'] = label_encoded_reviwer_nationality.fit_transform(data_lstm['Reviewer_Nationality'])\n",
    "\n",
    "# Convert 'Reviewer_Nationality' into a NumPy array and reshape for stacking\n",
    "X_nationality = data_lstm['Reviewer_Nationality'].values.reshape(-1, 1)\n",
    "\n",
    "tags = ['Tag_0', 'Tag_1', 'Tag_2', 'Tag_3', 'Tag_4', 'Tag_5']\n",
    "# Label encode each tag column individually\n",
    "for tag in tags:\n",
    "    label_encoded_tags = LabelEncoder()\n",
    "    data_lstm[tag] = label_encoded_tags.fit_transform(data_lstm[tag])  # Convert each tag into integer labels\n",
    "\n",
    "X_tags = data_lstm[tags].values  # Convert to NumPy array\n",
    "\n",
    "# Combine features\n",
    "X = np.hstack((X_pos, X_neg, X_num, X_nationality, X_tags))\n",
    "y = data_lstm['positive'].values\n",
    "\n",
    "# Train-test split\n",
    "X_train, X_test, y_train, y_test = train_test_split(X, y, test_size=0.2, random_state=42, stratify=y) # stratify = y because of high level of imbalance in positive and negative reviews\n",
    "\n",
    "\n",
    "# print(data_lstm.dtypes)  # Check overall data types\n",
    "# print(data_lstm[['Reviewer_Nationality']].dtypes)  # Check the label-encoded column\n",
    "# print(data_lstm[tags].dtypes)  # Check the tag columns (still one-hot encoded)\n",
    "\n",
    "# print(Counter(data_lstm['positive'])) # Check ratio of positive to negative reviews"
   ]
  },
  {
   "cell_type": "code",
   "execution_count": null,
   "metadata": {},
   "outputs": [],
   "source": [
    "# Build the LSTM model\n",
    "model = Sequential([\n",
    "    Embedding(MAX_VOCAB, 128, input_length=X_train.shape[1]),\n",
    "    LSTM(64, return_sequences=True, activation='tanh', recurrent_activation='sigmoid'),\n",
    "    LSTM(32),\n",
    "    Dense(32, activation='relu'),\n",
    "    Dropout(0.2), # Low dropout as overfitting is near 0 anyway\n",
    "    Dense(1, activation='sigmoid')\n",
    "])\n",
    "\n",
    "model.compile(loss='binary_crossentropy', optimizer='adam', metrics=['accuracy', 'AUC'])\n"
   ]
  },
  {
   "cell_type": "code",
   "execution_count": 13,
   "metadata": {},
   "outputs": [
    {
     "name": "stdout",
     "output_type": "stream",
     "text": [
      "Epoch 1/2\n",
      "\u001b[1m6447/6447\u001b[0m \u001b[32m━━━━━━━━━━━━━━━━━━━━\u001b[0m\u001b[37m\u001b[0m \u001b[1m1326s\u001b[0m 205ms/step - AUC: 0.7885 - accuracy: 0.9580 - loss: 0.1462 - val_AUC: 0.9474 - val_accuracy: 0.9656 - val_loss: 0.0938\n",
      "Epoch 2/2\n",
      "\u001b[1m6447/6447\u001b[0m \u001b[32m━━━━━━━━━━━━━━━━━━━━\u001b[0m\u001b[37m\u001b[0m \u001b[1m1244s\u001b[0m 193ms/step - AUC: 0.9478 - accuracy: 0.9656 - loss: 0.0944 - val_AUC: 0.9460 - val_accuracy: 0.9658 - val_loss: 0.0941\n"
     ]
    },
    {
     "data": {
      "text/plain": [
       "<keras.src.callbacks.history.History at 0x1bfc1623560>"
      ]
     },
     "execution_count": 13,
     "metadata": {},
     "output_type": "execute_result"
    }
   ],
   "source": [
    "# Train model\n",
    "model.fit(X_train, y_train, epochs=2, batch_size=64, validation_data=(X_test, y_test))\n",
    "\n",
    "# The model converges quickly, and performance is good regardless of batch size, so only 2-3 epochs needed with batch size = 64 or 128"
   ]
  },
  {
   "cell_type": "code",
   "execution_count": 14,
   "metadata": {},
   "outputs": [
    {
     "name": "stdout",
     "output_type": "stream",
     "text": [
      "\u001b[1m3224/3224\u001b[0m \u001b[32m━━━━━━━━━━━━━━━━━━━━\u001b[0m\u001b[37m\u001b[0m \u001b[1m206s\u001b[0m 64ms/step\n"
     ]
    },
    {
     "data": {
      "image/png": "[encoded data removed]",
      "text/plain": [
       "<Figure size 640x480 with 1 Axes>"
      ]
     },
     "metadata": {},
     "output_type": "display_data"
    }
   ],
   "source": [
    "# Used for plotting the amount of positive and negative reviews predicted by the model\n",
    "\n",
    "# Get raw predictions (probabilities)\n",
    "y_pred_probs = model.predict(X_test)\n",
    "\n",
    "# Convert probabilities to binary labels (positive or negative review)\n",
    "y_pred = (y_pred_probs >= 0.5).astype(int)\n",
    "\n",
    "positive_count = np.sum(y_pred == 1)\n",
    "negative_count = np.sum(y_pred == 0)\n",
    "\n",
    "categories = ['Negative', 'Positive']\n",
    "counts = [negative_count, positive_count]\n",
    "\n",
    "plt.bar(categories, counts, color=['red', 'green'])\n",
    "plt.xlabel(\"Review Sentiment\")\n",
    "plt.ylabel(\"Number of Predictions\")\n",
    "plt.title(\"Distribution of Predicted Sentiments\")\n",
    "\n",
    "plt.show()"
   ]
  },
  {
   "cell_type": "code",
   "execution_count": 15,
   "metadata": {},
   "outputs": [
    {
     "name": "stdout",
     "output_type": "stream",
     "text": [
      "\u001b[1m3224/3224\u001b[0m \u001b[32m━━━━━━━━━━━━━━━━━━━━\u001b[0m\u001b[37m\u001b[0m \u001b[1m170s\u001b[0m 53ms/step - AUC: 0.9484 - accuracy: 0.9656 - loss: 0.0934\n",
      "\u001b[1m12894/12894\u001b[0m \u001b[32m━━━━━━━━━━━━━━━━━━━━\u001b[0m\u001b[37m\u001b[0m \u001b[1m662s\u001b[0m 51ms/step - AUC: 0.9595 - accuracy: 0.9675 - loss: 0.0846\n",
      "Test accuracy: 0.97\n",
      "Train accuracy: 0.97\n",
      "Overfitting: 0.00\n",
      "\u001b[1m3224/3224\u001b[0m \u001b[32m━━━━━━━━━━━━━━━━━━━━\u001b[0m\u001b[37m\u001b[0m \u001b[1m157s\u001b[0m 49ms/step\n",
      "Accuracy: 0.97\n",
      "Precision: 0.97\n",
      "Recall: 0.99\n",
      "F1-Score: 0.98\n",
      "ROC-AUC: 0.95\n"
     ]
    }
   ],
   "source": [
    "# This cell is for evaluating the model\n",
    "\n",
    "test_loss, test_accuracy, test_auc = model.evaluate(X_test, y_test)\n",
    "train_loss, train_accuracy, train_auc = model.evaluate(X_train, y_train)\n",
    "print(f'Test accuracy: {test_accuracy:.2f}')\n",
    "print(f'Train accuracy: {train_accuracy:.2f}')\n",
    "print(f'Overfitting: {train_accuracy-test_accuracy:.2f}')\n",
    "\n",
    "# Convert predicted probabilities to binary classification (positive or negative review)\n",
    "y_pred_prob = model.predict(X_test)  \n",
    "y_pred = (y_pred_prob >= 0.5).astype(int)  # Convert to binary classification\n",
    "\n",
    "# Metrics\n",
    "accuracy = accuracy_score(y_test, y_pred)\n",
    "precision = precision_score(y_test, y_pred)\n",
    "recall = recall_score(y_test, y_pred)\n",
    "f1 = f1_score(y_test, y_pred)\n",
    "roc_auc = roc_auc_score(y_test, y_pred_prob) \n",
    "\n",
    "# Results\n",
    "print(f'Accuracy: {accuracy:.2f}')\n",
    "print(f'Precision: {precision:.2f}') # How many predicted positives are actually positive\n",
    "print(f'Recall: {recall:.2f}') # How many actual positive cases were correctly predicted\n",
    "print(f'F1-Score: {f1:.2f}') # Balance betweet precision and recall\n",
    "print(f'ROC-AUC: {roc_auc:.2f}') # Area under ROC curve (recall against false positive rate)\n",
    "\n",
    "# Scores from 0-1, where higher scores = better performance"
   ]
  }
 ],
 "metadata": {
  "kernelspec": {
   "display_name": "Python 3",
   "language": "python",
   "name": "python3"
  },
  "language_info": {
   "codemirror_mode": {
    "name": "ipython",
    "version": 3
   },
   "file_extension": ".py",
   "mimetype": "text/x-python",
   "name": "python",
   "nbconvert_exporter": "python",
   "pygments_lexer": "ipython3",
   "version": "3.12.6"
  }
 },
 "nbformat": 4,
 "nbformat_minor": 2
}
